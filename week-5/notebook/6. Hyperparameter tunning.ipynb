{
 "cells": [
  {
   "cell_type": "markdown",
   "id": "separate-newton",
   "metadata": {},
   "source": [
    "# 라이브러리 로드"
   ]
  },
  {
   "cell_type": "code",
   "execution_count": 4,
   "id": "endless-child",
   "metadata": {
    "ExecuteTime": {
     "end_time": "2021-03-23T07:38:20.757476Z",
     "start_time": "2021-03-23T07:38:20.594525Z"
    }
   },
   "outputs": [],
   "source": [
    "import numpy as np\n",
    "import pandas as pd\n",
    "from kaggler.data_io import load_data\n",
    "\n",
    "from sklearn.ensemble import RandomForestClassifier, ExtraTreesClassifier\n",
    "from sklearn.linear_model import LogisticRegression\n",
    "from sklearn.tree import DecisionTreeClassifier\n",
    "\n",
    "from sklearn.model_selection import GridSearchCV, StratifiedKFold"
   ]
  },
  {
   "cell_type": "markdown",
   "id": "killing-value",
   "metadata": {},
   "source": [
    "# Hyperparameter tunning"
   ]
  },
  {
   "cell_type": "markdown",
   "id": "editorial-disposal",
   "metadata": {},
   "source": [
    "아래의 항목에 대해서 Hyperparameter tunning을 한다.\n",
    "\n",
    "여기서는 GridSearch를 통해서 tunning 예시를 보여줌.\n",
    "\n",
    "- logistic regression\n",
    "\n",
    "- decision tree\n",
    "\n",
    "- random forest\n",
    "\n",
    "- extra trees"
   ]
  },
  {
   "cell_type": "code",
   "execution_count": 8,
   "id": "wired-trinity",
   "metadata": {
    "ExecuteTime": {
     "end_time": "2021-03-23T07:40:24.782295Z",
     "start_time": "2021-03-23T07:40:24.776812Z"
    }
   },
   "outputs": [],
   "source": [
    "# j1 feature 사용 예시\n",
    "train_file = '../build/feature/j1.trn.h5'\n",
    "\n",
    "X, y = load_data(train_file)"
   ]
  },
  {
   "cell_type": "markdown",
   "id": "aboriginal-asthma",
   "metadata": {},
   "source": [
    "## logistic regression"
   ]
  },
  {
   "cell_type": "code",
   "execution_count": 14,
   "id": "facial-brick",
   "metadata": {
    "ExecuteTime": {
     "end_time": "2021-03-23T07:41:31.978965Z",
     "start_time": "2021-03-23T07:41:31.153537Z"
    }
   },
   "outputs": [
    {
     "name": "stdout",
     "output_type": "stream",
     "text": [
      "Fitting 5 folds for each of 120 candidates, totalling 600 fits\n"
     ]
    },
    {
     "name": "stderr",
     "output_type": "stream",
     "text": [
      "/Users/morphine/.pyenv/versions/anaconda3-5.3.1/envs/py37/lib/python3.7/site-packages/sklearn/model_selection/_search.py:921: UserWarning: One or more of the test scores are non-finite: [       nan        nan        nan        nan        nan        nan\n",
      "        nan        nan        nan        nan        nan        nan\n",
      "        nan        nan        nan        nan        nan        nan\n",
      "        nan        nan        nan        nan        nan        nan\n",
      "        nan        nan        nan        nan        nan        nan\n",
      "        nan        nan        nan        nan        nan        nan\n",
      "        nan        nan        nan        nan        nan        nan\n",
      "        nan        nan        nan        nan        nan        nan\n",
      "        nan        nan        nan        nan        nan        nan\n",
      "        nan        nan        nan        nan        nan        nan\n",
      "        nan        nan 0.81481388 0.8271546  0.8271546  0.8271546\n",
      "        nan        nan 0.8271546  0.82939552 0.82939552 0.82939552\n",
      "        nan        nan 0.8294018  0.82938924 0.82938924 0.82939552\n",
      "        nan        nan 0.82828448 0.8282782  0.8282782  0.8282782\n",
      "        nan        nan 0.8294018  0.8282782  0.8282782  0.8282782\n",
      "        nan        nan 0.8282782  0.8282782  0.8282782  0.82716088\n",
      "        nan        nan 0.8282782  0.8282782  0.8282782  0.82716088\n",
      "        nan        nan 0.82716088 0.82716088 0.82716088 0.8282782\n",
      "        nan        nan 0.82716088 0.82716088 0.82716088 0.8282782\n",
      "        nan        nan 0.8282782  0.82716088 0.82828448 0.8294018 ]\n",
      "  category=UserWarning\n"
     ]
    }
   ],
   "source": [
    "kfold = StratifiedKFold(n_splits=5, shuffle=True, random_state=42)\n",
    "\n",
    "lr_param_grid = {\n",
    "    'solver': ['newton-cg', 'lbfgs', 'liblinear'],\n",
    "    'penalty': ['l1', 'l2'],\n",
    "    'C': np.linspace(-4, 4, 20)}\n",
    "\n",
    "lr = LogisticRegression()\n",
    "\n",
    "lr_gscv = GridSearchCV(lr, param_grid=lr_param_grid, cv=kfold, scoring='accuracy', n_jobs=-1, verbose=1)\n",
    "\n",
    "lr_gscv.fit(X, y)\n",
    "\n",
    "lr_best = lr_gscv.best_estimator_"
   ]
  },
  {
   "cell_type": "code",
   "execution_count": 18,
   "id": "dedicated-italic",
   "metadata": {
    "ExecuteTime": {
     "end_time": "2021-03-23T07:42:11.435834Z",
     "start_time": "2021-03-23T07:42:11.432094Z"
    }
   },
   "outputs": [
    {
     "data": {
      "text/plain": [
       "{'C': 1.0526315789473681, 'penalty': 'l1', 'solver': 'liblinear'}"
      ]
     },
     "execution_count": 18,
     "metadata": {},
     "output_type": "execute_result"
    }
   ],
   "source": [
    "lr_gscv.best_params_"
   ]
  },
  {
   "cell_type": "code",
   "execution_count": 19,
   "id": "amended-interim",
   "metadata": {
    "ExecuteTime": {
     "end_time": "2021-03-23T07:42:28.640374Z",
     "start_time": "2021-03-23T07:42:28.636777Z"
    }
   },
   "outputs": [
    {
     "data": {
      "text/plain": [
       "0.8294017952419811"
      ]
     },
     "execution_count": 19,
     "metadata": {},
     "output_type": "execute_result"
    }
   ],
   "source": [
    "lr_gscv.best_score_"
   ]
  },
  {
   "cell_type": "markdown",
   "id": "integrated-pride",
   "metadata": {},
   "source": [
    "## Decision Tree"
   ]
  },
  {
   "cell_type": "code",
   "execution_count": 20,
   "id": "working-theology",
   "metadata": {
    "ExecuteTime": {
     "end_time": "2021-03-23T07:46:16.412772Z",
     "start_time": "2021-03-23T07:46:14.517592Z"
    }
   },
   "outputs": [
    {
     "name": "stdout",
     "output_type": "stream",
     "text": [
      "Fitting 5 folds for each of 648 candidates, totalling 3240 fits\n"
     ]
    },
    {
     "name": "stderr",
     "output_type": "stream",
     "text": [
      "/Users/morphine/.pyenv/versions/anaconda3-5.3.1/envs/py37/lib/python3.7/site-packages/sklearn/model_selection/_search.py:921: UserWarning: One or more of the test scores are non-finite: [       nan 0.78228611 0.78228611 0.78228611 0.78228611 0.78228611\n",
      " 0.78228611 0.78228611 0.78228611        nan 0.78228611 0.78228611\n",
      " 0.78228611 0.78228611 0.78228611 0.78228611 0.78228611 0.78228611\n",
      "        nan 0.78228611 0.78228611 0.78228611 0.78228611 0.78228611\n",
      " 0.78228611 0.78228611 0.78228611        nan 0.78228611 0.78228611\n",
      " 0.78228611 0.78228611 0.78228611 0.78228611 0.78228611 0.78228611\n",
      "        nan 0.78228611 0.78228611 0.78228611 0.78228611 0.78228611\n",
      " 0.78228611 0.78228611 0.78228611        nan 0.78228611 0.78228611\n",
      " 0.78228611 0.78228611 0.78228611 0.78228611 0.78228611 0.78228611\n",
      "        nan 0.78228611 0.78228611 0.78228611 0.78228611 0.78228611\n",
      " 0.78228611 0.78228611 0.78228611        nan 0.78228611 0.78228611\n",
      " 0.78228611 0.78228611 0.78228611 0.78228611 0.78228611 0.78228611\n",
      "        nan 0.82603729 0.82603729 0.82491369 0.82491369 0.82603729\n",
      " 0.82603729 0.82603729 0.82603729        nan 0.82603729 0.82603729\n",
      " 0.82491369 0.82603729 0.82603729 0.82491369 0.82603729 0.82491369\n",
      "        nan 0.82491369 0.82603729 0.82603729 0.82491369 0.82491369\n",
      " 0.82603729 0.82491369 0.82603729        nan 0.82156173 0.82156173\n",
      " 0.82156173 0.82268533 0.82268533 0.82268533 0.82268533 0.82156173\n",
      "        nan 0.82491369 0.82828448 0.82491369 0.82603729 0.82603729\n",
      " 0.82491369 0.82491369 0.82716088        nan 0.82603729 0.82603729\n",
      " 0.82828448 0.82491369 0.82491369 0.82828448 0.82828448 0.82828448\n",
      "        nan 0.82603729 0.82716088 0.82716088 0.82603729 0.82491369\n",
      " 0.82828448 0.82828448 0.82828448        nan 0.82380893 0.82268533\n",
      " 0.82268533 0.82380893 0.82268533 0.82380893 0.82380893 0.82380893\n",
      "        nan 0.82491369 0.82828448 0.82716088 0.82716088 0.82716088\n",
      " 0.82940807 0.82716088 0.82940807        nan 0.82603729 0.82379009\n",
      " 0.82379009 0.8215429  0.82603729 0.82603729 0.82940807 0.82828448\n",
      "        nan 0.82379009 0.82828448 0.82603729 0.82603729 0.82603729\n",
      " 0.82603729 0.82828448 0.82940807        nan 0.82604356 0.82716716\n",
      " 0.82604356 0.82604356 0.82716716 0.82604356 0.82604356 0.82716716\n",
      "        nan 0.82267278 0.82267278 0.82042559 0.82379637 0.82267278\n",
      " 0.82267278 0.82267278 0.82716716        nan 0.8159312  0.81817839\n",
      " 0.81930199 0.8170548  0.8170548  0.82154918 0.82154918 0.82491997\n",
      "        nan 0.82603729 0.82603729 0.82828448 0.82603729 0.82603729\n",
      " 0.82940807 0.82828448 0.83053167        nan 0.82829075 0.82829075\n",
      " 0.82829075 0.82941435 0.82829075 0.82941435 0.82829075 0.82941435\n",
      "        nan 0.82042559 0.81369029 0.81931454 0.82043814 0.81818467\n",
      " 0.81594376 0.81594376 0.82043814        nan 0.81369657 0.81144938\n",
      " 0.81706735 0.81482016 0.80807859 0.81594376 0.81931454 0.82043814\n",
      "        nan 0.82043186 0.81818467 0.82380265 0.82604984 0.81593748\n",
      " 0.82043186 0.82267905 0.82717344        nan 0.82493252 0.82493252\n",
      " 0.82830331 0.82717971 0.82717971 0.82717971 0.82380893 0.82493252\n",
      "        nan 0.81482016 0.81370284 0.81145565 0.81483272 0.81707363\n",
      " 0.81707991 0.81707991 0.8182035         nan 0.80359676 0.81033833\n",
      " 0.80921474 0.80921474 0.80809114 0.81146193 0.81707991 0.81258553\n",
      "        nan 0.81370284 0.81932082 0.82044442 0.82156801 0.81595003\n",
      " 0.81707363 0.82156801 0.81932082        nan 0.82382776 0.81933338\n",
      " 0.82382776 0.82045697 0.82045697 0.81933338 0.82270416 0.82270416\n",
      "        nan 0.8114431  0.80696127 0.80583767 0.80808487 0.81369657\n",
      " 0.81370284 0.81595003 0.81707363        nan 0.80583767 0.80808487\n",
      " 0.80583767 0.80808487 0.80808487 0.80583767 0.80920846 0.81482644\n",
      "        nan 0.81257297 0.81032578 0.81257297 0.81032578 0.81369657\n",
      " 0.81257297 0.81144938 0.82043814        nan 0.82267905 0.82155546\n",
      " 0.81930827 0.82267905 0.82043186 0.82155546 0.81930827 0.82492624\n",
      "        nan 0.7845333  0.7845333  0.7845333  0.7845333  0.7845333\n",
      " 0.7845333  0.7845333  0.7845333         nan 0.7845333  0.7845333\n",
      " 0.7845333  0.7845333  0.7845333  0.7845333  0.7845333  0.7845333\n",
      "        nan 0.7845333  0.7845333  0.7845333  0.7845333  0.7845333\n",
      " 0.7845333  0.7845333  0.7845333         nan 0.7845333  0.7845333\n",
      " 0.7845333  0.7845333  0.7845333  0.7845333  0.7845333  0.7845333\n",
      "        nan 0.78003892 0.78003892 0.78003892 0.78003892 0.78003892\n",
      " 0.78003892 0.78003892 0.78003892        nan 0.78003892 0.78003892\n",
      " 0.78003892 0.78003892 0.78003892 0.78003892 0.78003892 0.78003892\n",
      "        nan 0.78003892 0.78003892 0.78003892 0.78003892 0.78003892\n",
      " 0.78003892 0.78003892 0.78003892        nan 0.78003892 0.78003892\n",
      " 0.78003892 0.78003892 0.78003892 0.78003892 0.78003892 0.78003892\n",
      "        nan 0.82940807 0.82940807 0.82940807 0.82940807 0.82940807\n",
      " 0.82940807 0.82940807 0.82940807        nan 0.82940807 0.82940807\n",
      " 0.82940807 0.82940807 0.82940807 0.82940807 0.82940807 0.82940807\n",
      "        nan 0.82940807 0.82940807 0.82940807 0.82940807 0.82940807\n",
      " 0.82940807 0.82940807 0.82940807        nan 0.82605612 0.82605612\n",
      " 0.82605612 0.82605612 0.82605612 0.82605612 0.82605612 0.82605612\n",
      "        nan 0.82828448 0.82828448 0.82603729 0.82603729 0.82828448\n",
      " 0.82828448 0.82828448 0.82828448        nan 0.82603729 0.82603729\n",
      " 0.82603729 0.82828448 0.82828448 0.82603729 0.82828448 0.82828448\n",
      "        nan 0.82828448 0.82828448 0.82828448 0.82828448 0.82603729\n",
      " 0.82603729 0.82603729 0.82828448        nan 0.82380893 0.82380893\n",
      " 0.82380893 0.82380893 0.82380893 0.82380893 0.82380893 0.82380893\n",
      "        nan 0.8226665  0.81929571 0.8215429  0.8226665  0.82041931\n",
      " 0.82379009 0.82379009 0.82379009        nan 0.82379009 0.82379009\n",
      " 0.8215429  0.82379009 0.8215429  0.8215429  0.8215429  0.82379009\n",
      "        nan 0.82379009 0.8215429  0.82379009 0.8215429  0.82379009\n",
      " 0.82379009 0.82379009 0.82379009        nan 0.82156173 0.82156173\n",
      " 0.82156173 0.82156173 0.82156173 0.82156173 0.82156173 0.82156173\n",
      "        nan 0.81592493 0.82041931 0.81929571 0.82041931 0.81929571\n",
      " 0.8215429  0.82379009 0.82716088        nan 0.81817212 0.82041931\n",
      " 0.82041931 0.82041931 0.82041931 0.82041931 0.8226665  0.82603729\n",
      "        nan 0.8215429  0.81929571 0.81929571 0.8215429  0.8215429\n",
      " 0.8226665  0.8226665  0.82603729        nan 0.82380893 0.82380893\n",
      " 0.82380893 0.82380893 0.82380893 0.82380893 0.82380893 0.82380893\n",
      "        nan 0.82043186 0.81930199 0.82043186 0.82043186 0.82042559\n",
      " 0.82379637 0.82492624 0.82941435        nan 0.81818467 0.8170548\n",
      " 0.81369029 0.82043186 0.81706108 0.82604984 0.82492624 0.82380265\n",
      "        nan 0.82155546 0.82380265 0.82380265 0.82267278 0.82604356\n",
      " 0.82829703 0.82604984 0.82717344        nan 0.82382148 0.82046952\n",
      " 0.82046952 0.82719227 0.82719227 0.82046952 0.82382148 0.82382148\n",
      "        nan 0.81483272 0.81707991 0.82044442 0.82380893 0.82156173\n",
      " 0.82719227 0.82606867 0.82494508        nan 0.82156801 0.81819723\n",
      " 0.82044442 0.81707363 0.82380265 0.82830959 0.82830331 0.82606867\n",
      "        nan 0.82156801 0.82155546 0.82156801 0.8238152  0.82380265\n",
      " 0.82717344 0.82267905 0.83054422        nan 0.82606867 0.82271672\n",
      " 0.82384031 0.82384031 0.82606867 0.82719227 0.82719227 0.82384031\n",
      "        nan 0.82265395 0.81818467 0.82490114 0.81593748 0.82602473\n",
      " 0.83164899 0.83053794 0.83391501        nan 0.82603101 0.8159312\n",
      " 0.81928944 0.82041303 0.82267278 0.83278514 0.82942063 0.82829703\n",
      "        nan 0.82941435 0.81819095 0.82829075 0.82716716 0.82154918\n",
      " 0.8294269  0.82830331 0.82939552        nan 0.83391501 0.82829703\n",
      " 0.83166782 0.83054422 0.82829703 0.82829703 0.83279141 0.82829703]\n",
      "  category=UserWarning\n"
     ]
    }
   ],
   "source": [
    "kfold = StratifiedKFold(n_splits=5, shuffle=True, random_state=42)\n",
    "\n",
    "dt_param_grid = {\n",
    "    'criterion': ['gini', 'entropy'],\n",
    "    'max_depth': np.arange(1, 10),\n",
    "    'min_samples_split': np.arange(1, 10),\n",
    "    'min_samples_leaf': np.arange(1, 5)}\n",
    "\n",
    "dt = DecisionTreeClassifier()\n",
    "\n",
    "dt_gscv = GridSearchCV(dt, param_grid=dt_param_grid, cv=kfold, scoring='accuracy', n_jobs=-1, verbose=1)\n",
    "\n",
    "dt_gscv.fit(X, y)\n",
    "\n",
    "dt_best = dt_gscv.best_estimator_"
   ]
  },
  {
   "cell_type": "code",
   "execution_count": 28,
   "id": "collected-projector",
   "metadata": {
    "ExecuteTime": {
     "end_time": "2021-03-23T07:47:50.961656Z",
     "start_time": "2021-03-23T07:47:50.958009Z"
    }
   },
   "outputs": [
    {
     "data": {
      "text/plain": [
       "{'criterion': 'entropy',\n",
       " 'max_depth': 9,\n",
       " 'min_samples_leaf': 1,\n",
       " 'min_samples_split': 9}"
      ]
     },
     "execution_count": 28,
     "metadata": {},
     "output_type": "execute_result"
    }
   ],
   "source": [
    "dt_gscv.best_params_"
   ]
  },
  {
   "cell_type": "code",
   "execution_count": 29,
   "id": "trying-ballet",
   "metadata": {
    "ExecuteTime": {
     "end_time": "2021-03-23T07:47:56.306529Z",
     "start_time": "2021-03-23T07:47:56.302590Z"
    }
   },
   "outputs": [
    {
     "data": {
      "text/plain": [
       "0.8339150084740444"
      ]
     },
     "execution_count": 29,
     "metadata": {},
     "output_type": "execute_result"
    }
   ],
   "source": [
    "dt_gscv.best_score_"
   ]
  },
  {
   "cell_type": "markdown",
   "id": "favorite-allocation",
   "metadata": {},
   "source": [
    "## Random Forest"
   ]
  },
  {
   "cell_type": "code",
   "execution_count": 30,
   "id": "incorrect-island",
   "metadata": {
    "ExecuteTime": {
     "end_time": "2021-03-23T07:49:08.856757Z",
     "start_time": "2021-03-23T07:48:57.702643Z"
    }
   },
   "outputs": [
    {
     "name": "stdout",
     "output_type": "stream",
     "text": [
      "Fitting 5 folds for each of 54 candidates, totalling 270 fits\n"
     ]
    }
   ],
   "source": [
    "kfold = StratifiedKFold(n_splits=5, shuffle=True, random_state=42)\n",
    "\n",
    "rf_param_grid = {\n",
    "    \"max_depth\": [None],\n",
    "    \"max_features\": [1, 3, 10],\n",
    "    \"min_samples_split\": [2, 3, 10],\n",
    "    \"min_samples_leaf\": [1, 3, 10],\n",
    "    \"bootstrap\": [False],\n",
    "    \"n_estimators\" :[100,300],\n",
    "    \"criterion\": [\"gini\"]}\n",
    "\n",
    "rf = RandomForestClassifier()\n",
    "\n",
    "rf_gscv = GridSearchCV(rf, param_grid=rf_param_grid, cv=kfold, scoring='accuracy', n_jobs=-1, verbose=1)\n",
    "\n",
    "rf_gscv.fit(X, y)\n",
    "\n",
    "rf_best = rf_gscv.best_estimator_"
   ]
  },
  {
   "cell_type": "code",
   "execution_count": 31,
   "id": "functioning-invalid",
   "metadata": {
    "ExecuteTime": {
     "end_time": "2021-03-23T07:49:15.344688Z",
     "start_time": "2021-03-23T07:49:15.341015Z"
    }
   },
   "outputs": [
    {
     "data": {
      "text/plain": [
       "{'bootstrap': False,\n",
       " 'criterion': 'gini',\n",
       " 'max_depth': None,\n",
       " 'max_features': 3,\n",
       " 'min_samples_leaf': 3,\n",
       " 'min_samples_split': 10,\n",
       " 'n_estimators': 100}"
      ]
     },
     "execution_count": 31,
     "metadata": {},
     "output_type": "execute_result"
    }
   ],
   "source": [
    "rf_gscv.best_params_"
   ]
  },
  {
   "cell_type": "code",
   "execution_count": 32,
   "id": "indonesian-change",
   "metadata": {
    "ExecuteTime": {
     "end_time": "2021-03-23T07:49:21.491784Z",
     "start_time": "2021-03-23T07:49:21.488263Z"
    }
   },
   "outputs": [
    {
     "data": {
      "text/plain": [
       "0.8439897056054233"
      ]
     },
     "execution_count": 32,
     "metadata": {},
     "output_type": "execute_result"
    }
   ],
   "source": [
    "rf_gscv.best_score_"
   ]
  },
  {
   "cell_type": "markdown",
   "id": "checked-sewing",
   "metadata": {},
   "source": [
    "## Extra trees"
   ]
  },
  {
   "cell_type": "code",
   "execution_count": 33,
   "id": "documentary-champagne",
   "metadata": {
    "ExecuteTime": {
     "end_time": "2021-03-23T07:51:10.922387Z",
     "start_time": "2021-03-23T07:51:00.686180Z"
    }
   },
   "outputs": [
    {
     "name": "stdout",
     "output_type": "stream",
     "text": [
      "Fitting 5 folds for each of 54 candidates, totalling 270 fits\n"
     ]
    }
   ],
   "source": [
    "kfold = StratifiedKFold(n_splits=5, shuffle=True, random_state=42)\n",
    "\n",
    "et_param_grid = {\n",
    "    \"max_depth\": [None],\n",
    "    \"max_features\": [1, 3, 10],\n",
    "    \"min_samples_split\": [2, 3, 10],\n",
    "    \"min_samples_leaf\": [1, 3, 10],\n",
    "    \"bootstrap\": [False],\n",
    "    \"n_estimators\" :[100,300],\n",
    "    \"criterion\": [\"gini\"]}\n",
    "\n",
    "et = ExtraTreesClassifier()\n",
    "\n",
    "et_gscv = GridSearchCV(et, param_grid=et_param_grid, cv=kfold, scoring='accuracy', n_jobs=-1, verbose=1)\n",
    "\n",
    "et_gscv.fit(X, y)\n",
    "\n",
    "et_best = et_gscv.best_estimator_"
   ]
  },
  {
   "cell_type": "code",
   "execution_count": 34,
   "id": "exposed-fundamental",
   "metadata": {
    "ExecuteTime": {
     "end_time": "2021-03-23T07:51:10.965710Z",
     "start_time": "2021-03-23T07:51:10.962204Z"
    }
   },
   "outputs": [
    {
     "data": {
      "text/plain": [
       "{'bootstrap': False,\n",
       " 'criterion': 'gini',\n",
       " 'max_depth': None,\n",
       " 'max_features': 10,\n",
       " 'min_samples_leaf': 1,\n",
       " 'min_samples_split': 10,\n",
       " 'n_estimators': 100}"
      ]
     },
     "execution_count": 34,
     "metadata": {},
     "output_type": "execute_result"
    }
   ],
   "source": [
    "et_gscv.best_params_"
   ]
  },
  {
   "cell_type": "code",
   "execution_count": 35,
   "id": "original-progressive",
   "metadata": {
    "ExecuteTime": {
     "end_time": "2021-03-23T07:51:14.262344Z",
     "start_time": "2021-03-23T07:51:14.258889Z"
    }
   },
   "outputs": [
    {
     "data": {
      "text/plain": [
       "0.8406377502981609"
      ]
     },
     "execution_count": 35,
     "metadata": {},
     "output_type": "execute_result"
    }
   ],
   "source": [
    "et_gscv.best_score_"
   ]
  },
  {
   "cell_type": "code",
   "execution_count": null,
   "id": "quality-contribution",
   "metadata": {},
   "outputs": [],
   "source": []
  }
 ],
 "metadata": {
  "hide_input": false,
  "kernelspec": {
   "display_name": "Python 3",
   "language": "python",
   "name": "python3"
  },
  "language_info": {
   "codemirror_mode": {
    "name": "ipython",
    "version": 3
   },
   "file_extension": ".py",
   "mimetype": "text/x-python",
   "name": "python",
   "nbconvert_exporter": "python",
   "pygments_lexer": "ipython3",
   "version": "3.7.9"
  },
  "toc": {
   "base_numbering": 1,
   "nav_menu": {},
   "number_sections": false,
   "sideBar": true,
   "skip_h1_title": false,
   "title_cell": "Table of Contents",
   "title_sidebar": "Contents",
   "toc_cell": false,
   "toc_position": {},
   "toc_section_display": true,
   "toc_window_display": false
  },
  "varInspector": {
   "cols": {
    "lenName": 16,
    "lenType": 16,
    "lenVar": 40
   },
   "kernels_config": {
    "python": {
     "delete_cmd_postfix": "",
     "delete_cmd_prefix": "del ",
     "library": "var_list.py",
     "varRefreshCmd": "print(var_dic_list())"
    },
    "r": {
     "delete_cmd_postfix": ") ",
     "delete_cmd_prefix": "rm(",
     "library": "var_list.r",
     "varRefreshCmd": "cat(var_dic_list()) "
    }
   },
   "types_to_exclude": [
    "module",
    "function",
    "builtin_function_or_method",
    "instance",
    "_Feature"
   ],
   "window_display": false
  }
 },
 "nbformat": 4,
 "nbformat_minor": 5
}
