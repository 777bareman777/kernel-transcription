{
 "cells": [
  {
   "cell_type": "markdown",
   "id": "phantom-prerequisite",
   "metadata": {},
   "source": [
    "# 캐글 대회 파이프라인 소개"
   ]
  },
  {
   "cell_type": "markdown",
   "id": "positive-fluid",
   "metadata": {},
   "source": [
    "## 데이터셋 확인(Load and check data)"
   ]
  },
  {
   "cell_type": "markdown",
   "id": "apart-contest",
   "metadata": {},
   "source": [
    "- load data\n",
    "- outlier detection\n",
    "- check for null and missing values\n",
    "\n",
    "실무 데이터가 아닌 캐글에서 제공되는 데이터들은 잘 정제되어 있는 편이다.\n",
    "아무리 잘 정제했다고 하더라도, 결측치 값이 존재하기 마련이다.\n",
    "따라서 제공된 데이터의 어떤 부분에 결측치 값이 존재하는지 파악해야 한다.\n",
    "\n",
    "그리고, 주어진 데이터의 분포를 확인해야 한다. 즉 이상치 데이터(outlier data)가 있는지 확인해야 한다.\n",
    "그 이유는 주어진 데이터의 분포와 동 떨어진 데이터의 경우 모델 학습에 악영향을 끼칠 수 있기 때문이다.\n",
    "\n",
    "결측치를 파악했고 이상치를 파악했다면, 이것들을 어떻게 처리할지 고민을 해야한다.\n",
    "어떻게 처리하냐에 따라서 모델의 성능이 좌우지 된다."
   ]
  },
  {
   "cell_type": "markdown",
   "id": "tracked-arlington",
   "metadata": {},
   "source": [
    "## 탐색적 데이터 분석(Exploratory Data Analysis, EDA)"
   ]
  },
  {
   "cell_type": "markdown",
   "id": "underlying-mapping",
   "metadata": {},
   "source": [
    "제공된 데이터에서 여러 독립변수(feature)들을 개별적으로 분석하고, feature들 간의 관계를 분석해야 한다. 그리고. 이러한 독립변수(feature)들이 종속변수(target)을 예측하는데 얼마나 중요한지 파악해야 한다.\n",
    "\n",
    "즉, 독립변수(feature)가 종속변수(target)에 어떤 관계가 있는지 파악해야 하는 것이다.\n",
    "\n",
    "이를 파악하기 위해서, 시각화 도구(matplotlib, seabron, plotly등)을 이용해서 insight를 얻는 것이 중요하다."
   ]
  },
  {
   "cell_type": "markdown",
   "id": "harmful-arbor",
   "metadata": {},
   "source": [
    "## 독립변수 가공(Feature engineering)"
   ]
  },
  {
   "cell_type": "markdown",
   "id": "amino-fusion",
   "metadata": {},
   "source": [
    "EDA를 통해서 독립변수(feature)에 대한 insight를 토대로 모델의 성능을 높일 수 있도록 독립변수(feature)를 engineering(가공)해야 한다. 그리고 모델의 특징에 따라 독립변수(feature)를 가공하는 방법이 달라지기도 한다.\n",
    "\n",
    "- 독립변수(feature)에서 얻은 insight를 토대로 새로운 독립변수(feature)를 만드는 것\n",
    "- 필요 없는 feature 제거\n",
    "- feature를 모델에 맞도록 변형\n",
    "\n",
    "이러한 것들이 Feature engineering에 속한다.\n",
    "\n",
    "예를 들어, 범주형 데이터 같은 경우에는 one-hot encoding을 적용한다든지, 또는 연속형 변수들을 범주형 변수로 바꾼다던가, 텍스트 데이터를 전처리를 통해서 새로운 독립변수(feature)를 만드는 등이 있다."
   ]
  },
  {
   "cell_type": "markdown",
   "id": "aquatic-constitutional",
   "metadata": {},
   "source": [
    "## 모델 만들기(Modeling)"
   ]
  },
  {
   "cell_type": "markdown",
   "id": "becoming-saskatchewan",
   "metadata": {},
   "source": [
    "Modeling은 다음고 같은 절차를 따른다.\n",
    "\n",
    "- Simple Modeling\n",
    "    - Cross validation models\n",
    "    - Hyperparamater tunning for best models\n",
    "    - Plot learning curves\n",
    "    - Feature importance of the tree based classifiers\n",
    "    \n",
    "- Ensemble modeling\n",
    "    - Combining models\n",
    "\n",
    "- Prediction\n",
    "    - Predict and Submit results"
   ]
  },
  {
   "cell_type": "markdown",
   "id": "equipped-andorra",
   "metadata": {},
   "source": [
    "### 모델 선택(select model)"
   ]
  },
  {
   "cell_type": "markdown",
   "id": "mature-gibraltar",
   "metadata": {},
   "source": [
    "머신러닝 모델 같은 경우에는 데이터의 특징에 따라서 모델을 선택하고 학습하면 된다.\n",
    "\n",
    "반면, 딥러닝 모델 같은 경우에는 데이터에 대한 적절한 모델을 직접 구현해야 한다. (또는 사전학습 모델을 이용한 후, 예측 부분을 구현해도 된다.)"
   ]
  },
  {
   "cell_type": "markdown",
   "id": "viral-hepatitis",
   "metadata": {},
   "source": [
    "### 모델 평가(evaluate model)"
   ]
  },
  {
   "cell_type": "markdown",
   "id": "soviet-finnish",
   "metadata": {},
   "source": [
    "모델을 평가하기 위해서는 훈련 데이터셋을 전체를 사용해서는 안된다.\n",
    "그리고 훈련 데이터셋을 전체를 사용해서 학습을 시킨다면, 모델이 잘못된 방향으로 학습이 될 수도 있다.\n",
    "이를 막기 위해서는 교차검증(Cross validation)을 사용해야 한다.\n",
    "\n",
    "교차검증을 이용해서, 모델을 평가할 수도 있고, 모델을 튜닝할 수도 있다.\n",
    "그리고 나중에 스태킹(stacking)이라는 앙상블기법을 사용할 수 있다."
   ]
  },
  {
   "cell_type": "markdown",
   "id": "brief-october",
   "metadata": {},
   "source": [
    "### 모델 학습 및 예측(Train and predict model)"
   ]
  },
  {
   "cell_type": "markdown",
   "id": "framed-majority",
   "metadata": {},
   "source": [
    "훈련 데이터셋을 가지고 모델을 학습하고, 테스트 데이터 셋을 가지고 예측을 진행한다."
   ]
  }
 ],
 "metadata": {
  "hide_input": false,
  "kernelspec": {
   "display_name": "Python 3",
   "language": "python",
   "name": "python3"
  },
  "language_info": {
   "codemirror_mode": {
    "name": "ipython",
    "version": 3
   },
   "file_extension": ".py",
   "mimetype": "text/x-python",
   "name": "python",
   "nbconvert_exporter": "python",
   "pygments_lexer": "ipython3",
   "version": "3.7.9"
  },
  "toc": {
   "base_numbering": 1,
   "nav_menu": {},
   "number_sections": false,
   "sideBar": true,
   "skip_h1_title": false,
   "title_cell": "Table of Contents",
   "title_sidebar": "Contents",
   "toc_cell": false,
   "toc_position": {},
   "toc_section_display": true,
   "toc_window_display": true
  },
  "varInspector": {
   "cols": {
    "lenName": 16,
    "lenType": 16,
    "lenVar": 40
   },
   "kernels_config": {
    "python": {
     "delete_cmd_postfix": "",
     "delete_cmd_prefix": "del ",
     "library": "var_list.py",
     "varRefreshCmd": "print(var_dic_list())"
    },
    "r": {
     "delete_cmd_postfix": ") ",
     "delete_cmd_prefix": "rm(",
     "library": "var_list.r",
     "varRefreshCmd": "cat(var_dic_list()) "
    }
   },
   "types_to_exclude": [
    "module",
    "function",
    "builtin_function_or_method",
    "instance",
    "_Feature"
   ],
   "window_display": false
  }
 },
 "nbformat": 4,
 "nbformat_minor": 5
}
